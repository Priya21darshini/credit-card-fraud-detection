{
 "cells": [
  {
   "cell_type": "code",
   "execution_count": 22,
   "id": "608c3ece-7798-4605-81a8-e91a542cc9f1",
   "metadata": {},
   "outputs": [
    {
     "name": "stdout",
     "output_type": "stream",
     "text": [
      "Shape: (1048575, 11)\n"
     ]
    },
    {
     "data": {
      "text/html": [
       "<div>\n",
       "<style scoped>\n",
       "    .dataframe tbody tr th:only-of-type {\n",
       "        vertical-align: middle;\n",
       "    }\n",
       "\n",
       "    .dataframe tbody tr th {\n",
       "        vertical-align: top;\n",
       "    }\n",
       "\n",
       "    .dataframe thead th {\n",
       "        text-align: right;\n",
       "    }\n",
       "</style>\n",
       "<table border=\"1\" class=\"dataframe\">\n",
       "  <thead>\n",
       "    <tr style=\"text-align: right;\">\n",
       "      <th></th>\n",
       "      <th>step</th>\n",
       "      <th>type</th>\n",
       "      <th>amount</th>\n",
       "      <th>nameOrig</th>\n",
       "      <th>oldbalanceOrg</th>\n",
       "      <th>newbalanceOrig</th>\n",
       "      <th>nameDest</th>\n",
       "      <th>oldbalanceDest</th>\n",
       "      <th>newbalanceDest</th>\n",
       "      <th>isFraud</th>\n",
       "      <th>isFlaggedFraud</th>\n",
       "    </tr>\n",
       "  </thead>\n",
       "  <tbody>\n",
       "    <tr>\n",
       "      <th>0</th>\n",
       "      <td>1</td>\n",
       "      <td>PAYMENT</td>\n",
       "      <td>9839.64</td>\n",
       "      <td>C1231006815</td>\n",
       "      <td>170136.0</td>\n",
       "      <td>160296.36</td>\n",
       "      <td>M1979787155</td>\n",
       "      <td>0.0</td>\n",
       "      <td>0.0</td>\n",
       "      <td>0</td>\n",
       "      <td>0</td>\n",
       "    </tr>\n",
       "    <tr>\n",
       "      <th>1</th>\n",
       "      <td>1</td>\n",
       "      <td>PAYMENT</td>\n",
       "      <td>1864.28</td>\n",
       "      <td>C1666544295</td>\n",
       "      <td>21249.0</td>\n",
       "      <td>19384.72</td>\n",
       "      <td>M2044282225</td>\n",
       "      <td>0.0</td>\n",
       "      <td>0.0</td>\n",
       "      <td>0</td>\n",
       "      <td>0</td>\n",
       "    </tr>\n",
       "    <tr>\n",
       "      <th>2</th>\n",
       "      <td>1</td>\n",
       "      <td>TRANSFER</td>\n",
       "      <td>181.00</td>\n",
       "      <td>C1305486145</td>\n",
       "      <td>181.0</td>\n",
       "      <td>0.00</td>\n",
       "      <td>C553264065</td>\n",
       "      <td>0.0</td>\n",
       "      <td>0.0</td>\n",
       "      <td>1</td>\n",
       "      <td>0</td>\n",
       "    </tr>\n",
       "    <tr>\n",
       "      <th>3</th>\n",
       "      <td>1</td>\n",
       "      <td>CASH_OUT</td>\n",
       "      <td>181.00</td>\n",
       "      <td>C840083671</td>\n",
       "      <td>181.0</td>\n",
       "      <td>0.00</td>\n",
       "      <td>C38997010</td>\n",
       "      <td>21182.0</td>\n",
       "      <td>0.0</td>\n",
       "      <td>1</td>\n",
       "      <td>0</td>\n",
       "    </tr>\n",
       "    <tr>\n",
       "      <th>4</th>\n",
       "      <td>1</td>\n",
       "      <td>PAYMENT</td>\n",
       "      <td>11668.14</td>\n",
       "      <td>C2048537720</td>\n",
       "      <td>41554.0</td>\n",
       "      <td>29885.86</td>\n",
       "      <td>M1230701703</td>\n",
       "      <td>0.0</td>\n",
       "      <td>0.0</td>\n",
       "      <td>0</td>\n",
       "      <td>0</td>\n",
       "    </tr>\n",
       "  </tbody>\n",
       "</table>\n",
       "</div>"
      ],
      "text/plain": [
       "   step      type    amount     nameOrig  oldbalanceOrg  newbalanceOrig  \\\n",
       "0     1   PAYMENT   9839.64  C1231006815       170136.0       160296.36   \n",
       "1     1   PAYMENT   1864.28  C1666544295        21249.0        19384.72   \n",
       "2     1  TRANSFER    181.00  C1305486145          181.0            0.00   \n",
       "3     1  CASH_OUT    181.00   C840083671          181.0            0.00   \n",
       "4     1   PAYMENT  11668.14  C2048537720        41554.0        29885.86   \n",
       "\n",
       "      nameDest  oldbalanceDest  newbalanceDest  isFraud  isFlaggedFraud  \n",
       "0  M1979787155             0.0             0.0        0               0  \n",
       "1  M2044282225             0.0             0.0        0               0  \n",
       "2   C553264065             0.0             0.0        1               0  \n",
       "3    C38997010         21182.0             0.0        1               0  \n",
       "4  M1230701703             0.0             0.0        0               0  "
      ]
     },
     "execution_count": 22,
     "metadata": {},
     "output_type": "execute_result"
    }
   ],
   "source": [
    "#Dataset loading\n",
    "import pandas as pd\n",
    "df = pd.read_csv(\"C:/Users/singh/Downloads/Fraud.csv\")\n",
    "print(\"Shape:\", df.shape)\n",
    "df.head()\n"
   ]
  },
  {
   "cell_type": "code",
   "execution_count": 15,
   "id": "7c0abfe6-891d-47d9-b41e-96804a969927",
   "metadata": {},
   "outputs": [
    {
     "name": "stdout",
     "output_type": "stream",
     "text": [
      " Missing values in each column:\n",
      "step              0\n",
      "type              0\n",
      "amount            0\n",
      "nameOrig          0\n",
      "oldbalanceOrg     0\n",
      "newbalanceOrig    0\n",
      "nameDest          0\n",
      "oldbalanceDest    0\n",
      "newbalanceDest    0\n",
      "isFraud           0\n",
      "isFlaggedFraud    0\n",
      "dtype: int64\n",
      "\n",
      "  Number of outliers in 'amount': 53088\n",
      "\n",
      " Dropped highly correlated columns: ['oldbalanceOrg', 'newbalanceOrig', 'oldbalanceDest', 'newbalanceDest']\n"
     ]
    }
   ],
   "source": [
    " #CLEAN DATA CLEANING  \n",
    "import pandas as pd\n",
    "import numpy as np\n",
    "\n",
    "# Load the dataset\n",
    "df = pd.read_csv(\"C:/Users/singh/Downloads/Fraud.csv\")\n",
    "\n",
    "# 1.Remove duplicate rows \n",
    "df = df.drop_duplicates()\n",
    "\n",
    "# 2.Missing values\n",
    "print(\" Missing values in each column:\")\n",
    "print(df.isnull().sum())\n",
    "\n",
    "# 3.Outliers \n",
    "Q1 = df['amount'].quantile(0.25)\n",
    "Q3 = df['amount'].quantile(0.75)\n",
    "IQR = Q3 - Q1\n",
    "lower = Q1 - 1.5 * IQR\n",
    "upper = Q3 + 1.5 * IQR\n",
    "outliers = df[(df['amount'] < lower) | (df['amount'] > upper)]\n",
    "print(\"\\n  Number of outliers in 'amount':\", outliers.shape[0])\n",
    "# 4. Drop columns manually\n",
    "cols_to_drop = ['oldbalanceOrg', 'newbalanceOrig', 'oldbalanceDest', 'newbalanceDest']\n",
    "df = df.drop(columns=cols_to_drop)\n",
    "print(\"\\n Dropped highly correlated columns:\", cols_to_drop)\n",
    "\n",
    "\n"
   ]
  },
  {
   "cell_type": "code",
   "execution_count": 15,
   "id": "92cb9a92-3829-4838-8eb6-abe40925f3d1",
   "metadata": {},
   "outputs": [
    {
     "name": "stdout",
     "output_type": "stream",
     "text": [
      "<class 'pandas.core.frame.DataFrame'>\n",
      "RangeIndex: 1048575 entries, 0 to 1048574\n",
      "Data columns (total 10 columns):\n",
      " #   Column          Non-Null Count    Dtype  \n",
      "---  ------          --------------    -----  \n",
      " 0   step            1048575 non-null  int64  \n",
      " 1   amount          1048575 non-null  float64\n",
      " 2   isFraud         1048575 non-null  int64  \n",
      " 3   hour            1048575 non-null  int64  \n",
      " 4   isNight         1048575 non-null  int64  \n",
      " 5   isMerchantDest  1048575 non-null  int64  \n",
      " 6   type_CASH_OUT   1048575 non-null  bool   \n",
      " 7   type_DEBIT      1048575 non-null  bool   \n",
      " 8   type_PAYMENT    1048575 non-null  bool   \n",
      " 9   type_TRANSFER   1048575 non-null  bool   \n",
      "dtypes: bool(4), float64(1), int64(5)\n",
      "memory usage: 52.0 MB\n"
     ]
    }
   ],
   "source": [
    "df.info()\n",
    "\n"
   ]
  },
  {
   "cell_type": "code",
   "execution_count": 16,
   "id": "d5e2f7c8-e525-4a6f-a912-6be8d2f06466",
   "metadata": {},
   "outputs": [
    {
     "name": "stdout",
     "output_type": "stream",
     "text": [
      "\n",
      "  Dropped 'isFlaggedFraud' because it has only one unique value\n"
     ]
    }
   ],
   "source": [
    "# 6. Drop a column\n",
    "import pandas as pd\n",
    "import numpy as np\n",
    "df = pd.read_csv(\"C:/Users/singh/Downloads/Fraud.csv\")\n",
    "if 'isFlaggedFraud' in df.columns and df['isFlaggedFraud'].nunique() == 1:\n",
    "    df = df.drop(columns=['isFlaggedFraud'])\n",
    "    print(\"\\n  Dropped 'isFlaggedFraud' because it has only one unique value\")\n"
   ]
  },
  {
   "cell_type": "code",
   "execution_count": 17,
   "id": "d8afe9fd-6173-47b3-ac76-94da9062484d",
   "metadata": {},
   "outputs": [
    {
     "name": "stdout",
     "output_type": "stream",
     "text": [
      "\n",
      " Dropped highly correlated columns: ['oldbalanceOrg', 'newbalanceOrig', 'oldbalanceDest', 'newbalanceDest']\n"
     ]
    }
   ],
   "source": [
    "# 7. Drop columns (high correlation) manually\n",
    "cols_to_drop = ['oldbalanceOrg', 'newbalanceOrig', 'oldbalanceDest', 'newbalanceDest']\n",
    "df = df.drop(columns=cols_to_drop)\n",
    "print(\"\\n Dropped highly correlated columns:\", cols_to_drop)"
   ]
  },
  {
   "cell_type": "code",
   "execution_count": 18,
   "id": "38cbdce6-e75c-43d1-a769-d7e1c0b3f551",
   "metadata": {},
   "outputs": [
    {
     "name": "stdout",
     "output_type": "stream",
     "text": [
      "\n",
      " Final columns after feature engineering:\n",
      "Index(['step', 'amount', 'isFraud', 'hour', 'isNight', 'isMerchantDest',\n",
      "       'type_CASH_OUT', 'type_DEBIT', 'type_PAYMENT', 'type_TRANSFER'],\n",
      "      dtype='object')\n"
     ]
    }
   ],
   "source": [
    "# 8. 🛠️ Feature Engineering \n",
    "df['hour'] = df['step'] % 24\n",
    "df['isNight'] = df['hour'].apply(lambda x: 1 if x <= 6 else 0)\n",
    "df['isMerchantDest'] = df['nameDest'].apply(lambda x: 1 if str(x).startswith('M') else 0)\n",
    "df = df.drop(columns=['nameOrig', 'nameDest'])\n",
    "df = pd.get_dummies(df, columns=['type'], drop_first=True)\n",
    "print(\"\\n Final columns after feature engineering:\")\n",
    "print(df.columns)\n"
   ]
  },
  {
   "cell_type": "code",
   "execution_count": 19,
   "id": "27018602-8457-432e-94b4-25a5ebfadd19",
   "metadata": {},
   "outputs": [
    {
     "name": "stdout",
     "output_type": "stream",
     "text": [
      "Shapes - Train: (838860, 9) , Test: (209715, 9)\n"
     ]
    }
   ],
   "source": [
    "from sklearn.model_selection import train_test_split\n",
    "X = df.drop(columns=['isFraud'])  \n",
    "y = df['isFraud']                 \n",
    "# Split into train and test\n",
    "X_train, X_test, y_train, y_test = train_test_split(X, y, test_size=0.2, random_state=42)\n",
    "\n",
    "print(\"Shapes - Train:\", X_train.shape, \", Test:\", X_test.shape)\n"
   ]
  },
  {
   "cell_type": "code",
   "execution_count": 20,
   "id": "8c6d28a4-c1f8-48a0-a066-a7d56a50f826",
   "metadata": {},
   "outputs": [
    {
     "name": "stdout",
     "output_type": "stream",
     "text": [
      " SMOTE Done. Resampled shapes:\n",
      "X_train: (1675884, 9)\n",
      "y_train: (1675884,)\n"
     ]
    }
   ],
   "source": [
    "from sklearn.model_selection import train_test_split\n",
    "from imblearn.over_sampling import SMOTE\n",
    "X = df.drop(columns=['isFraud'])\n",
    "y = df['isFraud']\n",
    "X_train, X_test, y_train, y_test = train_test_split(X, y, test_size=0.2, random_state=42)\n",
    "\n",
    "#9.SMOTE to balance data\n",
    "smote = SMOTE(random_state=42)\n",
    "X_resampled, y_resampled = smote.fit_resample(X_train, y_train)\n",
    "\n",
    "print(\" SMOTE Done. Resampled shapes:\")\n",
    "print(\"X_train:\", X_resampled.shape)\n",
    "print(\"y_train:\", y_resampled.shape)\n"
   ]
  },
  {
   "cell_type": "code",
   "execution_count": 14,
   "id": "d1cedfe0-5285-4d42-a96a-6d3413ea28fd",
   "metadata": {},
   "outputs": [
    {
     "name": "stdout",
     "output_type": "stream",
     "text": [
      "\n",
      " Classification Report:\n",
      "              precision    recall  f1-score   support\n",
      "\n",
      "           0       1.00      1.00      1.00    209491\n",
      "           1       0.17      0.60      0.27       224\n",
      "\n",
      "    accuracy                           1.00    209715\n",
      "   macro avg       0.59      0.80      0.63    209715\n",
      "weighted avg       1.00      1.00      1.00    209715\n",
      "\n",
      "\n",
      " Confusion Matrix:\n",
      "[[208837    654]\n",
      " [    89    135]]\n",
      "\n",
      " ROC-AUC Score: 0.8684728699562273\n"
     ]
    }
   ],
   "source": [
    "from sklearn.ensemble import RandomForestClassifier\n",
    "from sklearn.metrics import classification_report, confusion_matrix, roc_auc_score\n",
    "\n",
    "#  Create and train the model\n",
    "rf_model = RandomForestClassifier(n_estimators=100, random_state=42)\n",
    "rf_model.fit(X_resampled, y_resampled)\n",
    "\n",
    "#  Make predictions on the test set\n",
    "y_pred = rf_model.predict(X_test)\n",
    "y_proba = rf_model.predict_proba(X_test)[:, 1]  # for ROC-AUC\n",
    "\n",
    "#  Evaluate the model\n",
    "print(\"\\n Classification Report:\")\n",
    "print(classification_report(y_test, y_pred))\n",
    "\n",
    "print(\"\\n Confusion Matrix:\")\n",
    "print(confusion_matrix(y_test, y_pred))\n",
    "\n",
    "print(\"\\n ROC-AUC Score:\", roc_auc_score(y_test, y_proba))\n"
   ]
  },
  {
   "cell_type": "code",
   "execution_count": 21,
   "id": "779a4685-3fda-456d-9d50-a232e6a92f85",
   "metadata": {},
   "outputs": [
    {
     "data": {
      "image/png": "[encoded data removed]",
      "text/plain": [
       "<Figure size 1000x600 with 1 Axes>"
      ]
     },
     "metadata": {},
     "output_type": "display_data"
    }
   ],
   "source": [
    "import matplotlib.pyplot as plt\n",
    "importances = rf_model.feature_importances_\n",
    "features = X_train.columns\n",
    "# Plot\n",
    "plt.figure(figsize=(10, 6))\n",
    "plt.barh(features, importances, color='skyblue')\n",
    "plt.xlabel(\"Feature Importance\")\n",
    "plt.ylabel(\"Features\")\n",
    "plt.title(\"Random Forest Feature Importance\")\n",
    "plt.tight_layout()\n",
    "plt.show()\n"
   ]
  },
  {
   "cell_type": "code",
   "execution_count": 12,
   "id": "5897eb58-34bd-4763-bdd0-b20fa7580193",
   "metadata": {},
   "outputs": [
    {
     "data": {
      "image/png": "[encoded data removed]",
      "text/plain": [
       "<Figure size 640x480 with 1 Axes>"
      ]
     },
     "metadata": {},
     "output_type": "display_data"
    }
   ],
   "source": [
    "from sklearn.metrics import RocCurveDisplay\n",
    "RocCurveDisplay.from_estimator(rf_model, X_test, y_test)\n",
    "plt.title(\"ROC Curve - Fraud Detection Model\")\n",
    "plt.show()\n"
   ]
  },
  {
   "cell_type": "markdown",
   "id": "62f232bc-e1b7-4842-a4ce-3efcb0caf252",
   "metadata": {},
   "source": [
    "### 1. Data Cleaning Including Missing Values, Outliers and Multi-Collinearity  \r\n",
    "---Missing values: Checked by df.null().sum()  \r\n",
    "---Duplicates: by df.drop_duplicates()  \r\n",
    "---Outlier: Detected by IQR method.  \r\n",
    "---Multicollinearity: Dropped columns with correlation after VIF(Variance Inflation Factor).  \r\n",
    "\r\n",
    "---\r\n",
    "\r\n",
    "### 2. Describe Your Fraud Detection Model in Elaboration  \r\n",
    "---I used a Random Forest classifier, it is a powerful learning method.  \r\n",
    "---It handle large datasets.  \r\n",
    "---I trained the model after balancing classes using SMOTE (a method used in machine learning to address the problem of imbalanced datasets).  \r\n",
    "\r\n",
    "---\r\n",
    "\r\n",
    "### 3. How Did You Select Variables to Be Included in the Model?  \r\n",
    "---Numeric Columns like step, amount  \r\n",
    "---Engineered features: hour, isNight, isMerchantDest  \r\n",
    "---Some Correlated columns to reduce multicollinearity.  \r\n",
    "\r\n",
    "---\r\n",
    "\r\n",
    "### 4. Demonstrate the Performance of the Model by Using Best Set of Tools  \r\n",
    "---Results from Random Forest  \r\n",
    "---Classification Report  \r\n",
    "---Confusion Matrix  \r\n",
    "---ROC_AUC Score (The curves is also visualized).  \r\n",
    "\r\n",
    "---\r\n",
    "\r\n",
    "### 5. What Are the Key Factors That Predict Fraudulent Customers?  \r\n",
    "---Transaction Type (Transfer, cash out)  \r\n",
    "---Transaction Done at night (isNight = 1)  \r\n",
    "---High transaction Amount.  \r\n",
    "\r\n",
    "---\r\n",
    "\r\n",
    "### 6. Do These Factors Make Sense? If Yes, How?  \r\n",
    "---Yes:  \r\n",
    "---Fraudsters target large amount.  \r\n",
    "---They usually Transfer stolen money quickly.  \r\n",
    "---Fraud activities often occur during late night hours when monitoring is lower.  \r\n",
    "\r\n",
    "---\r\n",
    "\r\n",
    "### 7. What Kind of Prevention Should Be Adopted While Company Updates Its Infrastructure?  \r\n",
    "---Late night non-merchant transfer  \r\n",
    "---Limit high value transfers without verification.  \r\n",
    "---Deploy real time monitoring.  \r\n",
    "\r\n",
    "---\r\n",
    "\r\n",
    "### 8. Assuming These Actions Have Been Implemented, How Would You Determine if They Work?  \r\n",
    "---Monitor fraud rate trends  \r\n",
    "---Track false positive/negative rate  \r\n",
    "---Evaluate model precision and recall over time  \r\n"
   ]
  },
  {
   "cell_type": "code",
   "execution_count": null,
   "id": "c71c8d4c-5ace-431a-80a4-f49c3bafb231",
   "metadata": {},
   "outputs": [],
   "source": []
  }
 ],
 "metadata": {
  "kernelspec": {
   "display_name": "Python 3 (ipykernel)",
   "language": "python",
   "name": "python3"
  },
  "language_info": {
   "codemirror_mode": {
    "name": "ipython",
    "version": 3
   },
   "file_extension": ".py",
   "mimetype": "text/x-python",
   "name": "python",
   "nbconvert_exporter": "python",
   "pygments_lexer": "ipython3",
   "version": "3.11.7"
  }
 },
 "nbformat": 4,
 "nbformat_minor": 5
}
